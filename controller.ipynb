{
 "cells": [
  {
   "cell_type": "code",
   "execution_count": 1,
   "metadata": {},
   "outputs": [],
   "source": [
    "# Imports\n",
    "from framework.tiler.tiler import ImageTiler"
   ]
  },
  {
   "cell_type": "code",
   "execution_count": 2,
   "metadata": {},
   "outputs": [],
   "source": [
    "# Config\n",
    "config = {\n",
    "    'tiler': {\n",
    "        'imagePath': '/Users/cfuta/Desktop/TileServer/tile-server/Ignition Map.png'\n",
    "        , 'minZoom': 0\n",
    "        , 'maxZoom': 4\n",
    "        , 'reshapeTileSize': False\n",
    "        , 'coordinateSystem': {}\n",
    "        }\n",
    "}"
   ]
  },
  {
   "cell_type": "code",
   "execution_count": 3,
   "metadata": {},
   "outputs": [
    {
     "name": "stdout",
     "output_type": "stream",
     "text": [
      "Name     Min Latitude     Max Latitude     Min Longitude     Max Longitude     \n",
      "WGS-84   -180.0           180.0            -85.05            85.05             \n"
     ]
    }
   ],
   "source": [
    "# Initialize Tiler\n",
    "tiler = ImageTiler(**config.get('tiler'))"
   ]
  },
  {
   "cell_type": "code",
   "execution_count": 4,
   "metadata": {},
   "outputs": [
    {
     "name": "stdout",
     "output_type": "stream",
     "text": [
      "Height (px)     Width (px)     Scale     \n",
      "5400            7200           1.33      \n"
     ]
    }
   ],
   "source": [
    "# Image Description\n",
    "tiler.getImageDescription()"
   ]
  }
 ],
 "metadata": {
  "kernelspec": {
   "display_name": ".venv",
   "language": "python",
   "name": "python3"
  },
  "language_info": {
   "codemirror_mode": {
    "name": "ipython",
    "version": 3
   },
   "file_extension": ".py",
   "mimetype": "text/x-python",
   "name": "python",
   "nbconvert_exporter": "python",
   "pygments_lexer": "ipython3",
   "version": "3.10.5"
  },
  "orig_nbformat": 4,
  "vscode": {
   "interpreter": {
    "hash": "1c860b3a7df026bc278ed9b498492a87e7d697fd97413c283b3c79ee31a244aa"
   }
  }
 },
 "nbformat": 4,
 "nbformat_minor": 2
}

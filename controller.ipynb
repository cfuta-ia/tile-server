{
 "cells": [
  {
   "cell_type": "code",
   "execution_count": 4,
   "metadata": {},
   "outputs": [],
   "source": [
    "# Imports\n",
    "from framework.tiler.splitter import ImageSplitter\n"
   ]
  },
  {
   "cell_type": "code",
   "execution_count": 5,
   "metadata": {},
   "outputs": [],
   "source": [
    "# Config\n",
    "splitter_config = {\n",
    "    'imagePath': '/Users/cfuta/Desktop/TileServer/tile-server/Ignition Map.png'\n",
    "    , 'zoom': 1\n",
    "    }"
   ]
  },
  {
   "cell_type": "code",
   "execution_count": 6,
   "metadata": {},
   "outputs": [
    {
     "name": "stdout",
     "output_type": "stream",
     "text": [
      "(5400, 7200, 3)\n"
     ]
    },
    {
     "data": {
      "text/plain": [
       "(5400, 7200, 3)"
      ]
     },
     "execution_count": 6,
     "metadata": {},
     "output_type": "execute_result"
    }
   ],
   "source": [
    "# Split Image & Save\n",
    "splitter = ImageSplitter(**splitter_config)\n",
    "splitter.num_tiles"
   ]
  }
 ],
 "metadata": {
  "kernelspec": {
   "display_name": ".venv",
   "language": "python",
   "name": "python3"
  },
  "language_info": {
   "codemirror_mode": {
    "name": "ipython",
    "version": 3
   },
   "file_extension": ".py",
   "mimetype": "text/x-python",
   "name": "python",
   "nbconvert_exporter": "python",
   "pygments_lexer": "ipython3",
   "version": "3.10.5"
  },
  "orig_nbformat": 4,
  "vscode": {
   "interpreter": {
    "hash": "1c860b3a7df026bc278ed9b498492a87e7d697fd97413c283b3c79ee31a244aa"
   }
  }
 },
 "nbformat": 4,
 "nbformat_minor": 2
}

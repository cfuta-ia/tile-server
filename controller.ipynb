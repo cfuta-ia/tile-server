{
 "cells": [
  {
   "cell_type": "code",
   "execution_count": 8,
   "metadata": {},
   "outputs": [],
   "source": [
    "# Imports\n",
    "from framework.tiler.handler import ImageTiler"
   ]
  },
  {
   "cell_type": "code",
   "execution_count": 9,
   "metadata": {},
   "outputs": [],
   "source": [
    "# Config\n",
    "config = {\n",
    "    'tiler': {\n",
    "        'imagePath': '/Users/cfuta/Desktop/TileServer/tile-server/Ignition Map.png'\n",
    "        , 'minZoom': 1\n",
    "        , 'maxZoom': 1\n",
    "        , 'reshapeTileSize': False\n",
    "        , 'coordinateSystem': {}\n",
    "        }\n",
    "}"
   ]
  },
  {
   "cell_type": "code",
   "execution_count": 10,
   "metadata": {},
   "outputs": [
    {
     "name": "stdout",
     "output_type": "stream",
     "text": [
      "Name     Min Latitude     Max Latitude     Min Longitude     Max Longitude     \n",
      "WGS-84   -180.0           180.0            -85.05            85.05             \n"
     ]
    }
   ],
   "source": [
    "# Initialize Tiler\n",
    "tiler = ImageTiler(**config.get('tiler'))"
   ]
  },
  {
   "cell_type": "code",
   "execution_count": 11,
   "metadata": {},
   "outputs": [
    {
     "name": "stdout",
     "output_type": "stream",
     "text": [
      "Height (px)     Width (px)     Scale     Tile Size     \n",
      "5400            7200           1.33      256x256       \n"
     ]
    }
   ],
   "source": [
    "# Image Description\n",
    "tiler.getImageDescription()"
   ]
  },
  {
   "cell_type": "code",
   "execution_count": 12,
   "metadata": {},
   "outputs": [
    {
     "data": {
      "text/plain": [
       "'3'"
      ]
     },
     "execution_count": 12,
     "metadata": {},
     "output_type": "execute_result"
    }
   ],
   "source": [
    "from framework.tiler.splitter import ImageSplitter\n",
    "splitter = ImageSplitter({}, 1, ())\n",
    "splitter.quadKey(3,5)"
   ]
  },
  {
   "cell_type": "code",
   "execution_count": 15,
   "metadata": {},
   "outputs": [],
   "source": [
    "from PIL import Image\n",
    "import numpy as np\n",
    "img = Image.open(config['tiler']['imagePath'])\n",
    "img_data = np.array(img)\n",
    "i1, i2 = np.split(img_data, 2)\n",
    "img1 = Image.fromarray(i1).save('./tiles/i1.png')\n",
    "img2 = Image.fromarray(i2).save('./tiles/i2.png')\n",
    "\n"
   ]
  }
 ],
 "metadata": {
  "kernelspec": {
   "display_name": ".venv",
   "language": "python",
   "name": "python3"
  },
  "language_info": {
   "codemirror_mode": {
    "name": "ipython",
    "version": 3
   },
   "file_extension": ".py",
   "mimetype": "text/x-python",
   "name": "python",
   "nbconvert_exporter": "python",
   "pygments_lexer": "ipython3",
   "version": "3.10.5"
  },
  "orig_nbformat": 4,
  "vscode": {
   "interpreter": {
    "hash": "1c860b3a7df026bc278ed9b498492a87e7d697fd97413c283b3c79ee31a244aa"
   }
  }
 },
 "nbformat": 4,
 "nbformat_minor": 2
}

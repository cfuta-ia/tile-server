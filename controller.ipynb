{
 "cells": [
  {
   "cell_type": "code",
   "execution_count": 1,
   "metadata": {},
   "outputs": [],
   "source": [
    "# Import & Config\n",
    "from framework.tiler.handler import ImageTiler\n",
    "from framework.tiler.handler import TileServer\n",
    "from framework.tiler.img import TileImage\n",
    "\n",
    "\n",
    "config = {\n",
    "    'image': {\n",
    "        'imagePath': '/Users/cfuta/Desktop/TileServer/tile-server/Ignition Map.png'\n",
    "        , 'maintainAspectRatio': True\n",
    "    }\n",
    "    , 'projection': {\n",
    "        'datum': 'default'\n",
    "    }\n",
    "    , 'server': {\n",
    "        'directory': ''\n",
    "    }\n",
    "    \n",
    "}\n",
    "c = {\n",
    "    'imagePath': '/Users/cfuta/Desktop/TileServer/tile-server/Ignition Map.png'\n",
    "    , 'directory': 'ignition_map'\n",
    "    , 'minZoom': 1\n",
    "    , 'maxZoom': 1\n",
    "    , 'reshapeTileSize': False\n",
    "    , 'coordinateSystem': {}\n",
    "    }"
   ]
  },
  {
   "cell_type": "code",
   "execution_count": 2,
   "metadata": {},
   "outputs": [],
   "source": [
    "# Tile Server\n",
    "server = TileServer(**config)"
   ]
  },
  {
   "cell_type": "code",
   "execution_count": 3,
   "metadata": {},
   "outputs": [
    {
     "name": "stdout",
     "output_type": "stream",
     "text": [
      "Image\n",
      "Width (px)     Height (px)     Aspect Ratio     Tile Size     \n",
      "7200           5400            3/4              256x256       \n",
      "\n",
      "Coordinate System\n",
      "Name     Min Latitude     Max Latitude     Min Longitude     Max Longitude     \n",
      "WGS-84   -180.0           180.0            -85.05            85.05             \n",
      "\n",
      "Tiles\n",
      "\n",
      "Server\n"
     ]
    }
   ],
   "source": [
    "# Server Properties\n",
    "print('Image')\n",
    "server.tile_image.definition\n",
    "print('\\nCoordinate System')\n",
    "server.coordinate_system.definition\n",
    "print('\\nServer')"
   ]
  },
  {
   "cell_type": "code",
   "execution_count": 4,
   "metadata": {},
   "outputs": [],
   "source": [
    "# Split the image\n",
    "#server.splitImage()"
   ]
  },
  {
   "cell_type": "code",
   "execution_count": 5,
   "metadata": {},
   "outputs": [],
   "source": [
    "# Initialize Tiler\n",
    "#tiler = ImageTiler(**c)"
   ]
  },
  {
   "cell_type": "code",
   "execution_count": 6,
   "metadata": {},
   "outputs": [],
   "source": [
    "# Image Description\n",
    "#tiler.getImageDescription()"
   ]
  },
  {
   "cell_type": "code",
   "execution_count": 7,
   "metadata": {},
   "outputs": [
    {
     "data": {
      "text/plain": [
       "False"
      ]
     },
     "execution_count": 7,
     "metadata": {},
     "output_type": "execute_result"
    }
   ],
   "source": [
    "from fractions import Fraction\n",
    "Fraction(3,4)>1"
   ]
  },
  {
   "cell_type": "code",
   "execution_count": 8,
   "metadata": {},
   "outputs": [
    {
     "data": {
      "text/plain": [
       "'3'"
      ]
     },
     "execution_count": 8,
     "metadata": {},
     "output_type": "execute_result"
    }
   ],
   "source": [
    "from framework.tiler.splitter import ImageSplitter\n",
    "splitter = ImageSplitter({}, 1, ())\n",
    "splitter.quadKey(3,5)"
   ]
  },
  {
   "cell_type": "markdown",
   "metadata": {},
   "source": [
    "## Save Image ##\n",
    "from PIL import Image\n",
    "import numpy as np\n",
    "img = Image.open(config['tiler']['imagePath'])\n",
    "img_data = np.array(img)\n",
    "i1, i2 = np.split(img_data, 2)\n",
    "img1 = Image.fromarray(i1).save('./tiles/a/i1.png')\n",
    "img2 = Image.fromarray(i2).save('./tiles/a/i2.png')\n",
    "\n"
   ]
  }
 ],
 "metadata": {
  "kernelspec": {
   "display_name": ".venv",
   "language": "python",
   "name": "python3"
  },
  "language_info": {
   "codemirror_mode": {
    "name": "ipython",
    "version": 3
   },
   "file_extension": ".py",
   "mimetype": "text/x-python",
   "name": "python",
   "nbconvert_exporter": "python",
   "pygments_lexer": "ipython3",
   "version": "3.10.5"
  },
  "orig_nbformat": 4,
  "vscode": {
   "interpreter": {
    "hash": "1c860b3a7df026bc278ed9b498492a87e7d697fd97413c283b3c79ee31a244aa"
   }
  }
 },
 "nbformat": 4,
 "nbformat_minor": 2
}
